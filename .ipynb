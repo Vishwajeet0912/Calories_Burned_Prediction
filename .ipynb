import numpy as np
import pandas as pd
import matplotlib.pyplot as plt
import seaborn as sns 
from sklearn.model_selection import train_test_split
from xgboost import XGBRegressor
from sklearn import metrics

#Loading the data from a csv file to pandas DF
calories = pd.read_csv('/content/calories.csv')
exercise_data = pd.read_csv('/content/exercise.csv')
exercise_data.head()

calories_data = pd.concat([exercise_data,calories['Calories']],axis=1) 
calories_data.head()

#Get some some statistical measures about the data 
calories_data.describe()

#Finding the correlation in the data set
correlation = calories_data.corr()
#constructing a heat map to understand correlation 
plt.figure(figsize=(10,10))
sns.heatmap(correlation,cbar =True,square = True, fmt = '.1f', annot = True,annot_kws= {'size':8},cmap = 'Blues')

calories_data.replace({"Gender":{'male':0,'female':1}},inplace = True)

#Separating Feature and Traget
X = calories_data.drop(columns = ['User_ID','Calories'],axis=1)
Y = calories_data['Calories']

#Spliting the data in to training data and test data

X_train, X_test, Y_train, Y_test = train_test_split(X,Y, test_size = 0.2, random_state = 2)

#Model Traning
#XGBoost Regressor

#loading the model
model = XGBRegressor()

#traning the model with X_train
model.fit(X_train,Y_train)

#Evaluation

#Prediction on Test Data

test_data_prediction = model.predict(X_test)



#Mean Absolute Error
mae = metrics.mean_absolute_error(Y_test,test_data_prediction)
print('mean absolute error',mae)


#Building a Predictive System
input_gender = input('Enter your gender Male/Female(Keep the 1st letter capital) :')
if input_gender == 'Male':
  input_gender = 0
elif input_gender == 'Female':
  input_gender = 1
input_age = input('Enter your age :')
input_age = float(input_age)
input_height = input('Enter your height(cm) :')
input_height = float(input_height)
input_weight = input('Enter your weight(kg) :')
input_weight = float(input_weight)
input_duration = input('Enter your duration(mins) :')
input_duration = float(input_duration)
input_heart_rate = input('Enter your heart_rate(bpm) :')
input_heart_rate = float(input_heart_rate)
input_body_temp = input('Enter your body_temp(degree C) :')
input_body_temp = float(input_body_temp)

data =([{'Gender':input_gender,'Age': input_age,'Height':input_height,'Weight':input_weight,'Duration':input_duration,'Heart_Rate':input_heart_rate,'Body_Temp':input_body_temp}])
df = pd.DataFrame(data)

prediction = model.predict(df)
print(prediction)

